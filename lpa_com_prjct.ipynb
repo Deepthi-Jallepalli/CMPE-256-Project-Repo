{
  "nbformat": 4,
  "nbformat_minor": 0,
  "metadata": {
    "colab": {
      "name": "lpa_com_prjct.ipynb",
      "provenance": [],
      "collapsed_sections": []
    },
    "kernelspec": {
      "name": "python3",
      "display_name": "Python 3"
    }
  },
  "cells": [
    {
      "cell_type": "code",
      "metadata": {
        "id": "tMVHibA4zcpd",
        "colab_type": "code",
        "colab": {}
      },
      "source": [
        "!pip install -U -q PyDrive\n",
        "from pydrive.auth import GoogleAuth\n",
        "from pydrive.drive import GoogleDrive\n",
        "from google.colab import auth\n",
        "from oauth2client.client import GoogleCredentials"
      ],
      "execution_count": 0,
      "outputs": []
    },
    {
      "cell_type": "code",
      "metadata": {
        "id": "OnTIOEdnzls-",
        "colab_type": "code",
        "colab": {}
      },
      "source": [
        "\n",
        "auth.authenticate_user()\n",
        "gauth = GoogleAuth()\n",
        "gauth.credentials = GoogleCredentials.get_application_default()\n",
        "drive = GoogleDrive(gauth)"
      ],
      "execution_count": 0,
      "outputs": []
    },
    {
      "cell_type": "code",
      "metadata": {
        "id": "ExFEbOyGz1qp",
        "colab_type": "code",
        "colab": {}
      },
      "source": [
        "import networkx as nx\n",
        "import numpy as np\n",
        "import matplotlib.pyplot as plt\n",
        "from networkx.algorithms import community\n",
        "import random\n",
        "from collections import Counter\n",
        "from networkx.utils import groups"
      ],
      "execution_count": 0,
      "outputs": []
    },
    {
      "cell_type": "code",
      "metadata": {
        "id": "CkbYeYSRz2pP",
        "colab_type": "code",
        "colab": {}
      },
      "source": [
        "downloaded = drive.CreateFile({'id':'1hLXU94qD7us9QN_RKI6cz7Ez8qQVwpMh'}) \n",
        "downloaded.GetContentFile('facebook_combined.txt')"
      ],
      "execution_count": 0,
      "outputs": []
    },
    {
      "cell_type": "code",
      "metadata": {
        "id": "nBAzbI-B1KvH",
        "colab_type": "code",
        "colab": {}
      },
      "source": [
        "G=nx.read_edgelist(\"facebook_combined.txt\",create_using=nx.Graph(),nodetype=int)"
      ],
      "execution_count": 0,
      "outputs": []
    },
    {
      "cell_type": "code",
      "metadata": {
        "id": "IFvFSSRi1Tpv",
        "colab_type": "code",
        "outputId": "f1d8aac4-7d78-4735-c892-c72c8ac0cabc",
        "colab": {
          "base_uri": "https://localhost:8080/",
          "height": 102
        }
      },
      "source": [
        "print(nx.info(G))"
      ],
      "execution_count": 6,
      "outputs": [
        {
          "output_type": "stream",
          "text": [
            "Name: \n",
            "Type: Graph\n",
            "Number of nodes: 4039\n",
            "Number of edges: 88234\n",
            "Average degree:  43.6910\n"
          ],
          "name": "stdout"
        }
      ]
    },
    {
      "cell_type": "code",
      "metadata": {
        "id": "dKZiGK701XEz",
        "colab_type": "code",
        "colab": {}
      },
      "source": [
        "pos_list=nx.spring_layout(G)"
      ],
      "execution_count": 0,
      "outputs": []
    },
    {
      "cell_type": "code",
      "metadata": {
        "id": "bScLlKc21bKe",
        "colab_type": "code",
        "outputId": "317dc044-58e4-44da-9878-a13e0c31ddf5",
        "colab": {
          "base_uri": "https://localhost:8080/",
          "height": 248
        }
      },
      "source": [
        "plt.axis(\"off\")\n",
        "nx.draw_networkx(G,pos=pos_list,with_labels=False,node_size=45)"
      ],
      "execution_count": 8,
      "outputs": [
        {
          "output_type": "display_data",
          "data": {
            "image/png": "[encoded data removed]",
            "text/plain": [
              "<Figure size 432x288 with 1 Axes>"
            ]
          },
          "metadata": {
            "tags": []
          }
        }
      ]
    },
    {
      "cell_type": "code",
      "metadata": {
        "id": "RuVuN7Ah1xD6",
        "colab_type": "code",
        "colab": {}
      },
      "source": [
        "lpa_com=list(community.asyn_lpa_communities(G,weight=None,seed=None))"
      ],
      "execution_count": 0,
      "outputs": []
    },
    {
      "cell_type": "code",
      "metadata": {
        "id": "a8WU0PLb14Di",
        "colab_type": "code",
        "outputId": "65894876-cae3-4478-d9cd-9490c76a4a4a",
        "colab": {
          "base_uri": "https://localhost:8080/",
          "height": 54
        }
      },
      "source": [
        "print(lpa_com[0])"
      ],
      "execution_count": 10,
      "outputs": [
        {
          "output_type": "stream",
          "text": [
            "{0, 1, 3, 5, 7, 9, 10, 11, 12, 13, 15, 16, 18, 21, 22, 25, 26, 27, 29, 30, 31, 35, 37, 38, 39, 40, 43, 45, 47, 48, 50, 51, 54, 55, 56, 59, 60, 62, 63, 64, 65, 66, 67, 69, 72, 73, 74, 75, 76, 77, 79, 81, 82, 83, 84, 85, 87, 88, 90, 96, 98, 100, 103, 104, 105, 106, 109, 113, 114, 117, 118, 119, 120, 121, 122, 123, 125, 126, 128, 129, 130, 132, 133, 134, 138, 141, 142, 145, 146, 148, 150, 153, 154, 156, 158, 160, 161, 163, 164, 165, 166, 168, 169, 170, 172, 176, 178, 179, 183, 185, 186, 188, 189, 190, 191, 199, 200, 202, 203, 206, 207, 208, 209, 210, 211, 212, 213, 215, 217, 221, 222, 223, 224, 228, 229, 231, 232, 234, 235, 236, 237, 238, 239, 240, 246, 247, 248, 250, 252, 257, 258, 260, 261, 265, 268, 269, 270, 271, 272, 274, 276, 277, 280, 283, 285, 286, 287, 288, 290, 291, 292, 294, 295, 297, 298, 301, 303, 304, 308, 311, 313, 314, 315, 316, 317, 318, 322, 323, 324, 325, 329, 331, 332, 334, 335, 336, 338, 339, 340, 341, 342, 344, 345, 347}\n"
          ],
          "name": "stdout"
        }
      ]
    },
    {
      "cell_type": "code",
      "metadata": {
        "id": "9rgU0A5V3D4e",
        "colab_type": "code",
        "outputId": "38244138-a2ef-4cd7-c384-b83aeb75c6e7",
        "colab": {
          "base_uri": "https://localhost:8080/",
          "height": 34
        }
      },
      "source": [
        "print(len(lpa_com))"
      ],
      "execution_count": 11,
      "outputs": [
        {
          "output_type": "stream",
          "text": [
            "76\n"
          ],
          "name": "stdout"
        }
      ]
    },
    {
      "cell_type": "markdown",
      "metadata": {
        "id": "CDtxQJjQjK0o",
        "colab_type": "text"
      },
      "source": [
        ""
      ]
    },
    {
      "cell_type": "code",
      "metadata": {
        "id": "e0p82gZ_jYtI",
        "colab_type": "code",
        "colab": {}
      },
      "source": [
        "def label_propagation_communities(G):\n",
        "  label_list = dict()\n",
        "  labels={}\n",
        "  for i,n in enumerate(G):\n",
        "    labels[n]=i\n",
        "  colors=nx.coloring.greedy_color(G)\n",
        "  for n,c in colors.items():\n",
        "    if c in label_list:\n",
        "      label_list[c].add(n)\n",
        "    else:\n",
        "      label_list[c]={n}\n",
        "  #print(label_list)\n",
        "  #print(labels)\n",
        "  while not labeling_complete(labels, G):\n",
        "    for color, nodes in label_list.items():\n",
        "      for n in nodes:\n",
        "        _update_label(n, labels, G)\n",
        "  for label in set(labels.values()):\n",
        "    yield {x for x in labels if labels[x] == label}\n",
        "\n"
      ],
      "execution_count": 0,
      "outputs": []
    },
    {
      "cell_type": "code",
      "metadata": {
        "id": "wd11H364fElc",
        "colab_type": "code",
        "colab": {}
      },
      "source": [
        "def labeling_complete(labeling, G):\n",
        "  return all(labeling[v] in _most_frequent_labels(v, labeling, G)\n",
        "               for v in G if len(G[v]) > 0)\n",
        "  "
      ],
      "execution_count": 0,
      "outputs": []
    },
    {
      "cell_type": "code",
      "metadata": {
        "id": "u0ZOGIApfYS_",
        "colab_type": "code",
        "colab": {}
      },
      "source": [
        "def _most_frequent_labels(node, labeling, G):\n",
        "  if not G[node]:\n",
        "    return {labeling[node]}\n",
        "  freqs = Counter(labeling[q] for q in G[node])\n",
        "  max_freq = max(freqs.values())\n",
        "  return {label for label, freq in freqs.items() if freq == max_freq}"
      ],
      "execution_count": 0,
      "outputs": []
    },
    {
      "cell_type": "code",
      "metadata": {
        "id": "8cTbv1o2f0ie",
        "colab_type": "code",
        "colab": {}
      },
      "source": [
        "def _update_label(node, labeling, G):\n",
        "  high_labels = _most_frequent_labels(node, labeling, G)\n",
        "  if len(high_labels) == 1:\n",
        "        labeling[node] = high_labels.pop()\n",
        "  elif len(high_labels) > 1:\n",
        "    if labeling[node] not in high_labels:\n",
        "      labeling[node] = max(high_labels)"
      ],
      "execution_count": 0,
      "outputs": []
    },
    {
      "cell_type": "code",
      "metadata": {
        "id": "c97JuMkfgHVj",
        "colab_type": "code",
        "colab": {}
      },
      "source": [
        "res=list(label_propagation_communities(G))"
      ],
      "execution_count": 0,
      "outputs": []
    },
    {
      "cell_type": "code",
      "metadata": {
        "id": "ZHAsP9IBgZUE",
        "colab_type": "code",
        "outputId": "92b425ad-bf53-4713-f387-a7b3cf4445bc",
        "colab": {
          "base_uri": "https://localhost:8080/",
          "height": 54
        }
      },
      "source": [
        "print(res[10])"
      ],
      "execution_count": 17,
      "outputs": [
        {
          "output_type": "stream",
          "text": [
            "{644, 648, 653, 654, 655, 657, 660, 663, 664, 666, 672, 677, 678, 679, 680, 682, 684, 685, 573, 574, 575, 579, 584, 588, 589, 590, 592, 597, 598, 603, 605, 609, 611, 612, 616, 617, 618, 619, 620, 621, 622, 623, 625, 626, 630, 631, 633, 636, 639}\n"
          ],
          "name": "stdout"
        }
      ]
    }
  ]
}