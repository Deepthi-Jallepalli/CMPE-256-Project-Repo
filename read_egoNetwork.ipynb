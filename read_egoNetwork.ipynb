{
 "cells": [
  {
   "cell_type": "code",
   "execution_count": 3,
   "metadata": {},
   "outputs": [],
   "source": [
    "import os\n",
    "import networkx as nx\n",
    "import matplotlib.pyplot as plt"
   ]
  },
  {
   "cell_type": "code",
   "execution_count": 7,
   "metadata": {},
   "outputs": [],
   "source": [
    "def read_edge_files(folder):\n",
    "\n",
    "    # Retrive all files with name edges in it \n",
    "\n",
    "    edgeFiles = [file for file in os.listdir(folder) if 'edges' in file]\n",
    "    print(\"Edge files of existing egonetworks: \",edgeFiles)\n",
    "\n",
    "    # Retrive all nodes for each ego network in edgefiles\n",
    "\n",
    "    egoNodes = [int(ego[:-6]) for ego in edgeFiles ]\n",
    "    egoNodes.sort()\n",
    "\n",
    "    print(\"nodes representing egonetworks: \",egoNodes)\n",
    "\n",
    "    del edgeFiles\n",
    "    return egoNodes,filename"
   ]
  },
  {
   "cell_type": "code",
   "execution_count": 5,
   "metadata": {},
   "outputs": [],
   "source": [
    "def create_graph(egoNodes,filename):\n",
    "    \n",
    "    for egoNode in egoNodes:\n",
    "        edges = []\n",
    "        \n",
    "        with open(filename + str(egoNode) + '.edges') as files:\n",
    "            print('ego network : ',str(egoNode))\n",
    "            \n",
    "            for i, line in enumerate(files):\n",
    "                words = line.split()\n",
    "                edges.append((egoNode, (int(words[0]))))\n",
    "                edges.append((egoNode, (int(words[1]))))\n",
    "                edges.append((int(words[0]), int(words[1])))\n",
    "\n",
    "        G = nx.Graph(edges)\n",
    "\n",
    "        info = nx.info(G) + '\\n'\n",
    "    return G"
   ]
  },
  {
   "cell_type": "code",
   "execution_count": 8,
   "metadata": {},
   "outputs": [
    {
     "name": "stdout",
     "output_type": "stream",
     "text": [
      "Edge files of existing egonetworks:  ['0.edges', '107.edges', '1684.edges', '1912.edges', '3437.edges', '348.edges', '3980.edges', '414.edges', '686.edges', '698.edges']\n",
      "nodes representing egonetworks:  [0, 107, 348, 414, 686, 698, 1684, 1912, 3437, 3980]\n",
      "ego network :  0\n",
      "ego network :  107\n",
      "ego network :  348\n",
      "ego network :  414\n",
      "ego network :  686\n",
      "ego network :  698\n",
      "ego network :  1684\n",
      "ego network :  1912\n",
      "ego network :  3437\n",
      "ego network :  3980\n"
     ]
    }
   ],
   "source": [
    "path = 'facebook/'\n",
    "egoNodes,filename = read_edge_files(path)\n",
    "G = create_graph(egoNodes,filename)"
   ]
  }
 ],
 "metadata": {
  "kernelspec": {
   "display_name": "Python 3",
   "language": "python",
   "name": "python3"
  },
  "language_info": {
   "codemirror_mode": {
    "name": "ipython",
    "version": 3
   },
   "file_extension": ".py",
   "mimetype": "text/x-python",
   "name": "python",
   "nbconvert_exporter": "python",
   "pygments_lexer": "ipython3",
   "version": "3.7.3"
  }
 },
 "nbformat": 4,
 "nbformat_minor": 2
}
